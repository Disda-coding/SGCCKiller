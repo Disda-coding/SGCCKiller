{
 "cells": [
  {
   "cell_type": "code",
   "execution_count": 5,
   "id": "3a5d1c9c-354b-4167-93cc-dce9ed7aeb04",
   "metadata": {},
   "outputs": [],
   "source": [
    "import pandas as pd"
   ]
  },
  {
   "cell_type": "code",
   "execution_count": 6,
   "id": "0b52ee10-136d-4648-b237-8b66e3c23ca7",
   "metadata": {},
   "outputs": [],
   "source": [
    "df = pd.read_excel('高压电工题库（选择题）.xls')"
   ]
  },
  {
   "cell_type": "code",
   "execution_count": 12,
   "id": "85a84cf5-ddf8-4dcd-a0ed-5042b694125a",
   "metadata": {},
   "outputs": [],
   "source": [
    "df.答案 = df.答案.replace('[(|)]','',regex=True)"
   ]
  },
  {
   "cell_type": "code",
   "execution_count": 15,
   "id": "f06ecfdb-cb4d-483c-8ba7-fbbc84fceadf",
   "metadata": {},
   "outputs": [
    {
     "name": "stderr",
     "output_type": "stream",
     "text": [
      "/var/folders/d8/dp94n1f97rz0ldcwsjg06p280000gn/T/ipykernel_35626/339609148.py:1: FutureWarning: As the xlwt package is no longer maintained, the xlwt engine will be removed in a future version of pandas. This is the only engine in pandas that supports writing in the xls format. Install openpyxl and write to an xlsx file instead. You can set the option io.excel.xls.writer to 'xlwt' to silence this warning. While this option is deprecated and will also raise a warning, it can be globally set and the warning suppressed.\n",
      "  df.set_index('序号').to_excel('高压电工题库（选择题）.xls')\n"
     ]
    }
   ],
   "source": [
    "df.set_index('序号').to_excel('高压电工题库（选择题）.xls')"
   ]
  },
  {
   "cell_type": "code",
   "execution_count": null,
   "id": "5fddae6f-a98d-46da-8443-af471519a9bf",
   "metadata": {},
   "outputs": [],
   "source": []
  }
 ],
 "metadata": {
  "kernelspec": {
   "display_name": "Python 3 (ipykernel)",
   "language": "python",
   "name": "python3"
  },
  "language_info": {
   "codemirror_mode": {
    "name": "ipython",
    "version": 3
   },
   "file_extension": ".py",
   "mimetype": "text/x-python",
   "name": "python",
   "nbconvert_exporter": "python",
   "pygments_lexer": "ipython3",
   "version": "3.9.13"
  },
  "widgets": {
   "application/vnd.jupyter.widget-state+json": {
    "state": {},
    "version_major": 2,
    "version_minor": 0
   }
  }
 },
 "nbformat": 4,
 "nbformat_minor": 5
}
