{
 "cells": [
  {
   "cell_type": "code",
   "execution_count": 7,
   "id": "3a5d1c9c-354b-4167-93cc-dce9ed7aeb04",
   "metadata": {},
   "outputs": [],
   "source": [
    "import pandas as pd"
   ]
  },
  {
   "cell_type": "code",
   "execution_count": 8,
   "id": "0b52ee10-136d-4648-b237-8b66e3c23ca7",
   "metadata": {},
   "outputs": [],
   "source": [
    "df_f = pd.read_excel('高压电工题库（判断题）.xls',sheet_name=0)"
   ]
  },
  {
   "cell_type": "code",
   "execution_count": 9,
   "id": "5fddae6f-a98d-46da-8443-af471519a9bf",
   "metadata": {},
   "outputs": [],
   "source": [
    "df_t = pd.read_excel('高压电工题库（判断题）.xls',sheet_name=1)"
   ]
  },
  {
   "cell_type": "code",
   "execution_count": 13,
   "id": "e8192e3c-6919-42c1-817b-05dc6dfb8e46",
   "metadata": {},
   "outputs": [],
   "source": [
    "df_t = df_t[['题型','题干','答案']]"
   ]
  },
  {
   "cell_type": "code",
   "execution_count": 18,
   "id": "b7355b47-abd3-430b-96da-16c83f6afa09",
   "metadata": {},
   "outputs": [],
   "source": [
    "df_f=df_f.iloc[:,0:3]"
   ]
  },
  {
   "cell_type": "code",
   "execution_count": 19,
   "id": "e1ee6194-339a-42a8-b06b-41ba6c002d61",
   "metadata": {},
   "outputs": [
    {
     "name": "stderr",
     "output_type": "stream",
     "text": [
      "/var/folders/d8/dp94n1f97rz0ldcwsjg06p280000gn/T/ipykernel_45087/1923522557.py:1: FutureWarning: The frame.append method is deprecated and will be removed from pandas in a future version. Use pandas.concat instead.\n",
      "  df = df_f.append(df_t)\n"
     ]
    }
   ],
   "source": [
    "df = df_f.append(df_t)"
   ]
  },
  {
   "cell_type": "code",
   "execution_count": 14,
   "id": "0b387266-77e1-462d-80fe-08fe3b23110d",
   "metadata": {},
   "outputs": [
    {
     "data": {
      "text/html": [
       "<div>\n",
       "<style scoped>\n",
       "    .dataframe tbody tr th:only-of-type {\n",
       "        vertical-align: middle;\n",
       "    }\n",
       "\n",
       "    .dataframe tbody tr th {\n",
       "        vertical-align: top;\n",
       "    }\n",
       "\n",
       "    .dataframe thead th {\n",
       "        text-align: right;\n",
       "    }\n",
       "</style>\n",
       "<table border=\"1\" class=\"dataframe\">\n",
       "  <thead>\n",
       "    <tr style=\"text-align: right;\">\n",
       "      <th></th>\n",
       "      <th>题型</th>\n",
       "      <th>题干</th>\n",
       "      <th>答案</th>\n",
       "    </tr>\n",
       "  </thead>\n",
       "  <tbody>\n",
       "    <tr>\n",
       "      <th>0</th>\n",
       "      <td>判断题</td>\n",
       "      <td>大型电力系统有强大的调频和调压能力,有较大的抵御谐波的能力,可以提供质量更高的电能。()</td>\n",
       "      <td>对</td>\n",
       "    </tr>\n",
       "    <tr>\n",
       "      <th>1</th>\n",
       "      <td>判断题</td>\n",
       "      <td>电压互感器的容量是指其二次绕组允许接入的负载功率(以VA值表示),分额定容量和最大容量。()</td>\n",
       "      <td>对</td>\n",
       "    </tr>\n",
       "    <tr>\n",
       "      <th>2</th>\n",
       "      <td>判断题</td>\n",
       "      <td>如果人体直接碰到电气设备一相带电导体,这时电流将通过人体流入大地,这种触电称为单相触电。()</td>\n",
       "      <td>对</td>\n",
       "    </tr>\n",
       "    <tr>\n",
       "      <th>3</th>\n",
       "      <td>判断题</td>\n",
       "      <td>电气设备热备用状态指设备的刀闸已合上,开关末合,只要开关合上,就能送电。()</td>\n",
       "      <td>对</td>\n",
       "    </tr>\n",
       "    <tr>\n",
       "      <th>4</th>\n",
       "      <td>判断题</td>\n",
       "      <td>电力系统中的各级电压线路及其联系的各级变、配电所,这一部分叫做电力网,或称电网。()</td>\n",
       "      <td>对</td>\n",
       "    </tr>\n",
       "    <tr>\n",
       "      <th>...</th>\n",
       "      <td>...</td>\n",
       "      <td>...</td>\n",
       "      <td>...</td>\n",
       "    </tr>\n",
       "    <tr>\n",
       "      <th>532</th>\n",
       "      <td>判断题</td>\n",
       "      <td>配电网按其额定电压分为一次配网和二次配网。</td>\n",
       "      <td>对</td>\n",
       "    </tr>\n",
       "    <tr>\n",
       "      <th>533</th>\n",
       "      <td>判断题</td>\n",
       "      <td>在35/0.4KV的配电系统中,应在变电器的高低压侧分别装设阀型避雷器作防雷保护。</td>\n",
       "      <td>对</td>\n",
       "    </tr>\n",
       "    <tr>\n",
       "      <th>534</th>\n",
       "      <td>判断题</td>\n",
       "      <td>电场的强弱用电场强度表示,符号是E,单位为V/m。</td>\n",
       "      <td>对</td>\n",
       "    </tr>\n",
       "    <tr>\n",
       "      <th>535</th>\n",
       "      <td>判断题</td>\n",
       "      <td>电路中某点的电位,数值上等于正电荷在该点所具有的能量与电荷所带的电荷量的比。</td>\n",
       "      <td>对</td>\n",
       "    </tr>\n",
       "    <tr>\n",
       "      <th>536</th>\n",
       "      <td>判断题</td>\n",
       "      <td>作为一名电气工作人员，对发现任何人员有违反《电业安全工作规程》，应立即制止。</td>\n",
       "      <td>对</td>\n",
       "    </tr>\n",
       "  </tbody>\n",
       "</table>\n",
       "<p>537 rows × 3 columns</p>\n",
       "</div>"
      ],
      "text/plain": [
       "      题型                                              题干 答案\n",
       "0    判断题    大型电力系统有强大的调频和调压能力,有较大的抵御谐波的能力,可以提供质量更高的电能。()  对\n",
       "1    判断题  电压互感器的容量是指其二次绕组允许接入的负载功率(以VA值表示),分额定容量和最大容量。()  对\n",
       "2    判断题  如果人体直接碰到电气设备一相带电导体,这时电流将通过人体流入大地,这种触电称为单相触电。()  对\n",
       "3    判断题          电气设备热备用状态指设备的刀闸已合上,开关末合,只要开关合上,就能送电。()  对\n",
       "4    判断题      电力系统中的各级电压线路及其联系的各级变、配电所,这一部分叫做电力网,或称电网。()  对\n",
       "..   ...                                             ... ..\n",
       "532  判断题                           配电网按其额定电压分为一次配网和二次配网。  对\n",
       "533  判断题       在35/0.4KV的配电系统中,应在变电器的高低压侧分别装设阀型避雷器作防雷保护。  对\n",
       "534  判断题                       电场的强弱用电场强度表示,符号是E,单位为V/m。  对\n",
       "535  判断题          电路中某点的电位,数值上等于正电荷在该点所具有的能量与电荷所带的电荷量的比。  对\n",
       "536  判断题          作为一名电气工作人员，对发现任何人员有违反《电业安全工作规程》，应立即制止。  对\n",
       "\n",
       "[537 rows x 3 columns]"
      ]
     },
     "execution_count": 14,
     "metadata": {},
     "output_type": "execute_result"
    }
   ],
   "source": [
    "df_t"
   ]
  },
  {
   "cell_type": "code",
   "execution_count": 21,
   "id": "26320acf-0b9c-476a-a1d3-24f68cee4224",
   "metadata": {},
   "outputs": [
    {
     "name": "stderr",
     "output_type": "stream",
     "text": [
      "/var/folders/d8/dp94n1f97rz0ldcwsjg06p280000gn/T/ipykernel_45087/3976350858.py:1: FutureWarning: As the xlwt package is no longer maintained, the xlwt engine will be removed in a future version of pandas. This is the only engine in pandas that supports writing in the xls format. Install openpyxl and write to an xlsx file instead. You can set the option io.excel.xls.writer to 'xlwt' to silence this warning. While this option is deprecated and will also raise a warning, it can be globally set and the warning suppressed.\n",
      "  df.to_excel('高压电工题库（判断题）.xls',index=False)\n"
     ]
    }
   ],
   "source": [
    "df.to_excel('高压电工题库（判断题）.xls',index=False)"
   ]
  },
  {
   "cell_type": "code",
   "execution_count": 3,
   "id": "402dcc2d-abc0-4e38-a689-5c706ee58437",
   "metadata": {},
   "outputs": [],
   "source": [
    "from urllib.parse import "
   ]
  },
  {
   "cell_type": "code",
   "execution_count": 5,
   "id": "41f73a97-b2b7-4c10-a979-767c76f80298",
   "metadata": {},
   "outputs": [
    {
     "data": {
      "text/plain": [
       "\u001b[0;31mType:\u001b[0m        module\n",
       "\u001b[0;31mString form:\u001b[0m <module 'urllib.parse' from '/Users/disda/opt/anaconda3/lib/python3.9/urllib/parse.py'>\n",
       "\u001b[0;31mFile:\u001b[0m        ~/opt/anaconda3/lib/python3.9/urllib/parse.py\n",
       "\u001b[0;31mDocstring:\u001b[0m  \n",
       "Parse (absolute and relative) URLs.\n",
       "\n",
       "urlparse module is based upon the following RFC specifications.\n",
       "\n",
       "RFC 3986 (STD66): \"Uniform Resource Identifiers\" by T. Berners-Lee, R. Fielding\n",
       "and L.  Masinter, January 2005.\n",
       "\n",
       "RFC 2732 : \"Format for Literal IPv6 Addresses in URL's by R.Hinden, B.Carpenter\n",
       "and L.Masinter, December 1999.\n",
       "\n",
       "RFC 2396:  \"Uniform Resource Identifiers (URI)\": Generic Syntax by T.\n",
       "Berners-Lee, R. Fielding, and L. Masinter, August 1998.\n",
       "\n",
       "RFC 2368: \"The mailto URL scheme\", by P.Hoffman , L Masinter, J. Zawinski, July 1998.\n",
       "\n",
       "RFC 1808: \"Relative Uniform Resource Locators\", by R. Fielding, UC Irvine, June\n",
       "1995.\n",
       "\n",
       "RFC 1738: \"Uniform Resource Locators (URL)\" by T. Berners-Lee, L. Masinter, M.\n",
       "McCahill, December 1994\n",
       "\n",
       "RFC 3986 is considered the current standard and any future changes to\n",
       "urlparse module should conform with it.  The urlparse module is\n",
       "currently not entirely compliant with this RFC due to defacto\n",
       "scenarios for parsing, and for backward compatibility purposes, some\n",
       "parsing quirks from older RFCs are retained. The testcases in\n",
       "test_urlparse.py provides a good indicator of parsing behavior.\n"
      ]
     },
     "metadata": {},
     "output_type": "display_data"
    }
   ],
   "source": [
    "parse?"
   ]
  },
  {
   "cell_type": "code",
   "execution_count": 1,
   "id": "d726fa07-e297-4550-9285-d818648a3b09",
   "metadata": {},
   "outputs": [],
   "source": [
    "import matplotlib.pyplot as plt"
   ]
  },
  {
   "cell_type": "code",
   "execution_count": 2,
   "id": "3d68898d-b98d-4dfd-957d-9e5792c6b6fe",
   "metadata": {},
   "outputs": [],
   "source": [
    "x = [0,700000/46]\n",
    "y = [700000/116,0]"
   ]
  },
  {
   "cell_type": "code",
   "execution_count": 3,
   "id": "1ce9913a-d8dd-4de7-aeef-474eed271fa1",
   "metadata": {},
   "outputs": [
    {
     "data": {
      "text/plain": [
       "[<matplotlib.lines.Line2D at 0x10b9c28e0>]"
      ]
     },
     "execution_count": 3,
     "metadata": {},
     "output_type": "execute_result"
    },
    {
     "data": {
      "image/png": "[encoded data removed]",
      "text/plain": [
       "<Figure size 640x480 with 1 Axes>"
      ]
     },
     "metadata": {},
     "output_type": "display_data"
    }
   ],
   "source": [
    "plt.plot(x,y)"
   ]
  },
  {
   "cell_type": "code",
   "execution_count": 8,
   "id": "3c9e6ec5-7ff9-44b3-b882-951ab27828fa",
   "metadata": {},
   "outputs": [],
   "source": [
    "import pymysql\n",
    "import sqlalchemy\n",
    "import pandas as pd"
   ]
  },
  {
   "cell_type": "code",
   "execution_count": 9,
   "id": "b5c2406b-e020-4eaa-840b-6f4e98d5d50a",
   "metadata": {},
   "outputs": [],
   "source": [
    "user = \"root\"\n",
    "pwd = \"111111\"\n",
    "db = \"Infrastructure\"\n",
    "host = \"127.0.0.1\"\n",
    "port = 3306\n",
    "\n",
    "engine = sqlalchemy.create_engine(f'mysql+pymysql://{user}:{pwd}@{host}:{port}/{db}',echo=True)"
   ]
  },
  {
   "cell_type": "code",
   "execution_count": 11,
   "id": "ac7f30bf-2961-405b-aa11-9064b405ff59",
   "metadata": {},
   "outputs": [
    {
     "name": "stdout",
     "output_type": "stream",
     "text": [
      "2023-02-21 15:13:58,175 INFO sqlalchemy.engine.Engine SELECT DATABASE()\n",
      "2023-02-21 15:13:58,177 INFO sqlalchemy.engine.Engine [raw sql] {}\n",
      "2023-02-21 15:13:58,179 INFO sqlalchemy.engine.Engine SELECT @@sql_mode\n",
      "2023-02-21 15:13:58,179 INFO sqlalchemy.engine.Engine [raw sql] {}\n",
      "2023-02-21 15:13:58,181 INFO sqlalchemy.engine.Engine SELECT @@lower_case_table_names\n",
      "2023-02-21 15:13:58,181 INFO sqlalchemy.engine.Engine [raw sql] {}\n",
      "2023-02-21 15:13:58,183 INFO sqlalchemy.engine.Engine SELECT COUNT(*) FROM information_schema.tables WHERE table_schema = %(table_schema)s AND table_name = %(table_name)s\n",
      "2023-02-21 15:13:58,184 INFO sqlalchemy.engine.Engine [generated in 0.00047s] {'table_schema': 'infrastructure', 'table_name': 'select * from t_member'}\n",
      "2023-02-21 15:13:58,186 INFO sqlalchemy.engine.Engine select * from t_member\n",
      "2023-02-21 15:13:58,186 INFO sqlalchemy.engine.Engine [raw sql] {}\n"
     ]
    },
    {
     "data": {
      "text/html": [
       "<div>\n",
       "<style scoped>\n",
       "    .dataframe tbody tr th:only-of-type {\n",
       "        vertical-align: middle;\n",
       "    }\n",
       "\n",
       "    .dataframe tbody tr th {\n",
       "        vertical-align: top;\n",
       "    }\n",
       "\n",
       "    .dataframe thead th {\n",
       "        text-align: right;\n",
       "    }\n",
       "</style>\n",
       "<table border=\"1\" class=\"dataframe\">\n",
       "  <thead>\n",
       "    <tr style=\"text-align: right;\">\n",
       "      <th></th>\n",
       "      <th>id</th>\n",
       "      <th>member_name</th>\n",
       "      <th>member_phone</th>\n",
       "      <th>member_title</th>\n",
       "      <th>class_id</th>\n",
       "    </tr>\n",
       "  </thead>\n",
       "  <tbody>\n",
       "    <tr>\n",
       "      <th>0</th>\n",
       "      <td>1</td>\n",
       "      <td>蔡志生</td>\n",
       "      <td>None</td>\n",
       "      <td>None</td>\n",
       "      <td>1</td>\n",
       "    </tr>\n",
       "    <tr>\n",
       "      <th>1</th>\n",
       "      <td>2</td>\n",
       "      <td>路熠</td>\n",
       "      <td>None</td>\n",
       "      <td>None</td>\n",
       "      <td>1</td>\n",
       "    </tr>\n",
       "    <tr>\n",
       "      <th>2</th>\n",
       "      <td>3</td>\n",
       "      <td>魏茳彬</td>\n",
       "      <td>None</td>\n",
       "      <td>None</td>\n",
       "      <td>1</td>\n",
       "    </tr>\n",
       "    <tr>\n",
       "      <th>3</th>\n",
       "      <td>4</td>\n",
       "      <td>陈锡煌</td>\n",
       "      <td>None</td>\n",
       "      <td>None</td>\n",
       "      <td>1</td>\n",
       "    </tr>\n",
       "    <tr>\n",
       "      <th>4</th>\n",
       "      <td>5</td>\n",
       "      <td>曾凡水</td>\n",
       "      <td>None</td>\n",
       "      <td>None</td>\n",
       "      <td>1</td>\n",
       "    </tr>\n",
       "    <tr>\n",
       "      <th>5</th>\n",
       "      <td>6</td>\n",
       "      <td>谢国伟</td>\n",
       "      <td>None</td>\n",
       "      <td>None</td>\n",
       "      <td>1</td>\n",
       "    </tr>\n",
       "    <tr>\n",
       "      <th>6</th>\n",
       "      <td>7</td>\n",
       "      <td>庄炜维</td>\n",
       "      <td>1</td>\n",
       "      <td>班长</td>\n",
       "      <td>2</td>\n",
       "    </tr>\n",
       "    <tr>\n",
       "      <th>7</th>\n",
       "      <td>8</td>\n",
       "      <td>卢维物</td>\n",
       "      <td>None</td>\n",
       "      <td>None</td>\n",
       "      <td>2</td>\n",
       "    </tr>\n",
       "    <tr>\n",
       "      <th>8</th>\n",
       "      <td>9</td>\n",
       "      <td>孙传江</td>\n",
       "      <td>None</td>\n",
       "      <td>None</td>\n",
       "      <td>2</td>\n",
       "    </tr>\n",
       "    <tr>\n",
       "      <th>9</th>\n",
       "      <td>10</td>\n",
       "      <td>陈崇伟</td>\n",
       "      <td>None</td>\n",
       "      <td>None</td>\n",
       "      <td>2</td>\n",
       "    </tr>\n",
       "    <tr>\n",
       "      <th>10</th>\n",
       "      <td>11</td>\n",
       "      <td>陈玉海</td>\n",
       "      <td>None</td>\n",
       "      <td>None</td>\n",
       "      <td>2</td>\n",
       "    </tr>\n",
       "    <tr>\n",
       "      <th>11</th>\n",
       "      <td>12</td>\n",
       "      <td>洪炳黑</td>\n",
       "      <td>None</td>\n",
       "      <td>None</td>\n",
       "      <td>3</td>\n",
       "    </tr>\n",
       "    <tr>\n",
       "      <th>12</th>\n",
       "      <td>13</td>\n",
       "      <td>郭火灿</td>\n",
       "      <td>None</td>\n",
       "      <td>None</td>\n",
       "      <td>3</td>\n",
       "    </tr>\n",
       "    <tr>\n",
       "      <th>13</th>\n",
       "      <td>14</td>\n",
       "      <td>郭懂事</td>\n",
       "      <td>None</td>\n",
       "      <td>None</td>\n",
       "      <td>3</td>\n",
       "    </tr>\n",
       "    <tr>\n",
       "      <th>14</th>\n",
       "      <td>15</td>\n",
       "      <td>林志祥</td>\n",
       "      <td>None</td>\n",
       "      <td>None</td>\n",
       "      <td>3</td>\n",
       "    </tr>\n",
       "    <tr>\n",
       "      <th>15</th>\n",
       "      <td>16</td>\n",
       "      <td>潘毅</td>\n",
       "      <td>None</td>\n",
       "      <td>None</td>\n",
       "      <td>3</td>\n",
       "    </tr>\n",
       "    <tr>\n",
       "      <th>16</th>\n",
       "      <td>17</td>\n",
       "      <td>陈火煅</td>\n",
       "      <td>None</td>\n",
       "      <td>None</td>\n",
       "      <td>3</td>\n",
       "    </tr>\n",
       "    <tr>\n",
       "      <th>17</th>\n",
       "      <td>18</td>\n",
       "      <td>叶延备</td>\n",
       "      <td>None</td>\n",
       "      <td>None</td>\n",
       "      <td>3</td>\n",
       "    </tr>\n",
       "    <tr>\n",
       "      <th>18</th>\n",
       "      <td>19</td>\n",
       "      <td>戴达文</td>\n",
       "      <td>None</td>\n",
       "      <td>None</td>\n",
       "      <td>3</td>\n",
       "    </tr>\n",
       "  </tbody>\n",
       "</table>\n",
       "</div>"
      ],
      "text/plain": [
       "    id member_name member_phone member_title  class_id\n",
       "0    1         蔡志生         None         None         1\n",
       "1    2          路熠         None         None         1\n",
       "2    3         魏茳彬         None         None         1\n",
       "3    4         陈锡煌         None         None         1\n",
       "4    5         曾凡水         None         None         1\n",
       "5    6         谢国伟         None         None         1\n",
       "6    7         庄炜维            1           班长         2\n",
       "7    8         卢维物         None         None         2\n",
       "8    9         孙传江         None         None         2\n",
       "9   10         陈崇伟         None         None         2\n",
       "10  11         陈玉海         None         None         2\n",
       "11  12         洪炳黑         None         None         3\n",
       "12  13         郭火灿         None         None         3\n",
       "13  14         郭懂事         None         None         3\n",
       "14  15         林志祥         None         None         3\n",
       "15  16          潘毅         None         None         3\n",
       "16  17         陈火煅         None         None         3\n",
       "17  18         叶延备         None         None         3\n",
       "18  19         戴达文         None         None         3"
      ]
     },
     "execution_count": 11,
     "metadata": {},
     "output_type": "execute_result"
    }
   ],
   "source": [
    "pd.read_sql(\"select * from t_member\",con=engine)"
   ]
  },
  {
   "cell_type": "code",
   "execution_count": null,
   "id": "5e009e32-649d-4548-915b-3f1f4ac70c23",
   "metadata": {},
   "outputs": [],
   "source": []
  }
 ],
 "metadata": {
  "kernelspec": {
   "display_name": "Python 3 (ipykernel)",
   "language": "python",
   "name": "python3"
  },
  "language_info": {
   "codemirror_mode": {
    "name": "ipython",
    "version": 3
   },
   "file_extension": ".py",
   "mimetype": "text/x-python",
   "name": "python",
   "nbconvert_exporter": "python",
   "pygments_lexer": "ipython3",
   "version": "3.9.13"
  },
  "widgets": {
   "application/vnd.jupyter.widget-state+json": {
    "state": {},
    "version_major": 2,
    "version_minor": 0
   }
  }
 },
 "nbformat": 4,
 "nbformat_minor": 5
}
